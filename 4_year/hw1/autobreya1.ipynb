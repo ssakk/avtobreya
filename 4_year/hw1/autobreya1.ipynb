{
  "nbformat": 4,
  "nbformat_minor": 0,
  "metadata": {
    "colab": {
      "provenance": []
    },
    "kernelspec": {
      "name": "python3",
      "display_name": "Python 3"
    },
    "language_info": {
      "name": "python"
    }
  },
  "cells": [
    {
      "cell_type": "markdown",
      "source": [
        "## 0. Импорты и установки"
      ],
      "metadata": {
        "id": "WNSc5EHz0OWx"
      }
    },
    {
      "cell_type": "code",
      "source": [
        "!pip install corus"
      ],
      "metadata": {
        "id": "7UY2QqfPJbJT",
        "colab": {
          "base_uri": "https://localhost:8080/"
        },
        "outputId": "32623f21-376b-4413-9bdb-1f481c7fa516"
      },
      "execution_count": 1,
      "outputs": [
        {
          "output_type": "stream",
          "name": "stdout",
          "text": [
            "Requirement already satisfied: corus in /usr/local/lib/python3.10/dist-packages (0.10.0)\n"
          ]
        }
      ]
    },
    {
      "cell_type": "code",
      "source": [
        "!pip install pymystem3 pymorphy2"
      ],
      "metadata": {
        "colab": {
          "base_uri": "https://localhost:8080/"
        },
        "id": "O838oDiYtjgY",
        "outputId": "2b3ef3c7-4aba-4b7d-c6c4-75b906755dfd"
      },
      "execution_count": 2,
      "outputs": [
        {
          "output_type": "stream",
          "name": "stdout",
          "text": [
            "Requirement already satisfied: pymystem3 in /usr/local/lib/python3.10/dist-packages (0.2.0)\n",
            "Requirement already satisfied: pymorphy2 in /usr/local/lib/python3.10/dist-packages (0.9.1)\n",
            "Requirement already satisfied: requests in /usr/local/lib/python3.10/dist-packages (from pymystem3) (2.31.0)\n",
            "Requirement already satisfied: dawg-python>=0.7.1 in /usr/local/lib/python3.10/dist-packages (from pymorphy2) (0.7.2)\n",
            "Requirement already satisfied: pymorphy2-dicts-ru<3.0,>=2.4 in /usr/local/lib/python3.10/dist-packages (from pymorphy2) (2.4.417127.4579844)\n",
            "Requirement already satisfied: docopt>=0.6 in /usr/local/lib/python3.10/dist-packages (from pymorphy2) (0.6.2)\n",
            "Requirement already satisfied: charset-normalizer<4,>=2 in /usr/local/lib/python3.10/dist-packages (from requests->pymystem3) (3.3.2)\n",
            "Requirement already satisfied: idna<4,>=2.5 in /usr/local/lib/python3.10/dist-packages (from requests->pymystem3) (3.6)\n",
            "Requirement already satisfied: urllib3<3,>=1.21.1 in /usr/local/lib/python3.10/dist-packages (from requests->pymystem3) (2.0.7)\n",
            "Requirement already satisfied: certifi>=2017.4.17 in /usr/local/lib/python3.10/dist-packages (from requests->pymystem3) (2023.11.17)\n"
          ]
        }
      ]
    },
    {
      "cell_type": "code",
      "source": [
        "!pip install git+https://github.com/lopuhin/python-adagram.git"
      ],
      "metadata": {
        "colab": {
          "base_uri": "https://localhost:8080/"
        },
        "id": "yi97Ew0MzlIR",
        "outputId": "54ba06b2-46f0-4f0c-a647-ef74f1cd1fb1"
      },
      "execution_count": 3,
      "outputs": [
        {
          "output_type": "stream",
          "name": "stdout",
          "text": [
            "Collecting git+https://github.com/lopuhin/python-adagram.git\n",
            "  Cloning https://github.com/lopuhin/python-adagram.git to /tmp/pip-req-build-vn55uhia\n",
            "  Running command git clone --filter=blob:none --quiet https://github.com/lopuhin/python-adagram.git /tmp/pip-req-build-vn55uhia\n",
            "  Resolved https://github.com/lopuhin/python-adagram.git to commit cf3639f10d6a1efbcb602f45a1da89ef55ce5794\n",
            "  Preparing metadata (setup.py) ... \u001b[?25l\u001b[?25hdone\n",
            "Requirement already satisfied: cython in /usr/local/lib/python3.10/dist-packages (from adagram==0.0.1) (3.0.6)\n",
            "Requirement already satisfied: joblib in /usr/local/lib/python3.10/dist-packages (from adagram==0.0.1) (1.3.2)\n",
            "Requirement already satisfied: numpy>=1.9 in /usr/local/lib/python3.10/dist-packages (from adagram==0.0.1) (1.23.5)\n",
            "Requirement already satisfied: six in /usr/local/lib/python3.10/dist-packages (from adagram==0.0.1) (1.16.0)\n"
          ]
        }
      ]
    },
    {
      "cell_type": "code",
      "source": [
        "!curl \"https://s3.amazonaws.com/kostia.lopuhin/all.a010.p10.d300.w5.m100.nonorm.slim.joblib\" > all.a010.p10.d300.w5.m100"
      ],
      "metadata": {
        "colab": {
          "base_uri": "https://localhost:8080/"
        },
        "id": "86rFLLf66d9H",
        "outputId": "7c7cca6c-3d73-4554-acac-8dd70efbd88e"
      },
      "execution_count": 4,
      "outputs": [
        {
          "output_type": "stream",
          "name": "stdout",
          "text": [
            "  % Total    % Received % Xferd  Average Speed   Time    Time     Time  Current\n",
            "                                 Dload  Upload   Total   Spent    Left  Speed\n",
            "100 1394M  100 1394M    0     0  51.1M      0  0:00:27  0:00:27 --:--:-- 59.4M\n"
          ]
        }
      ]
    },
    {
      "cell_type": "code",
      "source": [
        "!wget https://github.com/UniversalDependencies/UD_Russian-SynTagRus/raw/master/ru_syntagrus-ud-dev.conllu"
      ],
      "metadata": {
        "colab": {
          "base_uri": "https://localhost:8080/"
        },
        "id": "-7xlrZ0TmsYd",
        "outputId": "014f4d81-71e4-4477-9c2b-234286fb0d72"
      },
      "execution_count": 5,
      "outputs": [
        {
          "output_type": "stream",
          "name": "stdout",
          "text": [
            "--2023-12-07 20:14:22--  https://github.com/UniversalDependencies/UD_Russian-SynTagRus/raw/master/ru_syntagrus-ud-dev.conllu\n",
            "Resolving github.com (github.com)... 140.82.112.3\n",
            "Connecting to github.com (github.com)|140.82.112.3|:443... connected.\n",
            "HTTP request sent, awaiting response... 302 Found\n",
            "Location: https://raw.githubusercontent.com/UniversalDependencies/UD_Russian-SynTagRus/master/ru_syntagrus-ud-dev.conllu [following]\n",
            "--2023-12-07 20:14:22--  https://raw.githubusercontent.com/UniversalDependencies/UD_Russian-SynTagRus/master/ru_syntagrus-ud-dev.conllu\n",
            "Resolving raw.githubusercontent.com (raw.githubusercontent.com)... 185.199.108.133, 185.199.109.133, 185.199.110.133, ...\n",
            "Connecting to raw.githubusercontent.com (raw.githubusercontent.com)|185.199.108.133|:443... connected.\n",
            "HTTP request sent, awaiting response... 200 OK\n",
            "Length: 14704579 (14M) [text/plain]\n",
            "Saving to: ‘ru_syntagrus-ud-dev.conllu.1’\n",
            "\n",
            "ru_syntagrus-ud-dev 100%[===================>]  14.02M  --.-KB/s    in 0.1s    \n",
            "\n",
            "2023-12-07 20:14:22 (95.6 MB/s) - ‘ru_syntagrus-ud-dev.conllu.1’ saved [14704579/14704579]\n",
            "\n"
          ]
        }
      ]
    },
    {
      "cell_type": "code",
      "source": [
        "# библиотеки для работы с эмбеддингами\n",
        "import adagram\n",
        "vm = adagram.VectorModel.load('all.a010.p10.d300.w5.m100')\n",
        "\n",
        "# для корпуса\n",
        "from corus import load_ud_syntag\n",
        "path = 'ru_syntagrus-ud-dev.conllu'\n",
        "\n",
        "# обработка данных и ML\n",
        "import json\n",
        "import pandas as pd\n",
        "from lxml import html\n",
        "import nltk\n",
        "from nltk.tokenize import RegexpTokenizer\n",
        "from nltk.corpus import stopwords\n",
        "from pymorphy2 import MorphAnalyzer\n",
        "from pymystem3 import Mystem\n",
        "from tqdm.notebook import tqdm\n",
        "from sklearn.metrics import adjusted_rand_score\n",
        "from scipy.spatial.distance import cosine\n",
        "from sklearn.decomposition import PCA\n",
        "from sklearn.cluster import *\n",
        "from collections import Counter\n",
        "import numpy as np\n",
        "from matplotlib import pyplot as plt\n",
        "%matplotlib inline\n",
        "import warnings\n",
        "warnings.filterwarnings('ignore')\n",
        "\n",
        "\n",
        "morph = MorphAnalyzer()\n",
        "token = RegexpTokenizer('\\w+')\n",
        "nltk.download('stopwords')\n",
        "stops = set(stopwords.words('russian'))\n",
        "\n",
        "def normalize(text):\n",
        "    words = [morph.parse(word)[0].normal_form for word in tokenize(text) if word]\n",
        "    return words\n",
        "\n",
        "def tokenize(text):\n",
        "    return token.tokenize(text)"
      ],
      "metadata": {
        "id": "X4wOwbWkBgz-",
        "colab": {
          "base_uri": "https://localhost:8080/"
        },
        "outputId": "2477b2cc-2bd5-4f3a-e14f-6e86d20cf4b7"
      },
      "execution_count": 6,
      "outputs": [
        {
          "output_type": "stream",
          "name": "stderr",
          "text": [
            "[nltk_data] Downloading package stopwords to /root/nltk_data...\n",
            "[nltk_data]   Package stopwords is already up-to-date!\n"
          ]
        }
      ]
    },
    {
      "cell_type": "markdown",
      "source": [
        "## 1. Выбор неоднозначных лексем\n",
        "Выбираю 5 лексем: рука, база, брус, ключ, повод\n",
        "\n",
        "Словарь [MAC](https://lexicography.online/explanatory/mas/), который нормально парсится, для парсинга использовала selectolax, но он не запустился в коллабе, поэтому код сделала отдельным .ру файлом, а значения сохранила в json"
      ],
      "metadata": {
        "id": "AfG0t_tlElMA"
      }
    },
    {
      "cell_type": "code",
      "source": [
        "lex = ['рука', 'база', 'голова', 'круг', 'повод']"
      ],
      "metadata": {
        "id": "JkDI5XrXEt0j"
      },
      "execution_count": 7,
      "outputs": []
    },
    {
      "cell_type": "code",
      "source": [
        "with open('meanings.json', 'r', encoding='utf-8') as f:\n",
        "        meanings = json.load(f)"
      ],
      "metadata": {
        "id": "sLcmqSEki1rQ"
      },
      "execution_count": 8,
      "outputs": []
    },
    {
      "cell_type": "code",
      "source": [
        "def pretty_print_dictionary(dictionary):\n",
        "    for key, value in dictionary.items():\n",
        "        if isinstance(value, dict):\n",
        "            print(f\"{key}:\")\n",
        "            pretty_print_dictionary(value)\n",
        "        else:\n",
        "            print(f\"{key}: {value}\")\n",
        "\n",
        "pretty_print_dictionary(meanings)"
      ],
      "metadata": {
        "colab": {
          "base_uri": "https://localhost:8080/"
        },
        "id": "QLQJGn1fn6Tg",
        "outputId": "71bc34f2-ff33-42ef-e589-a856b369495f"
      },
      "execution_count": 9,
      "outputs": [
        {
          "output_type": "stream",
          "name": "stdout",
          "text": [
            "рука: ['Каждая из двух верхних конечностей человека от плечевого сустава до кончиков пальцев. ', 'Употребляется как символ орудия труда человека, а также как символ самого труда, деятельности человека. ', 'Манера письма, почерк. ', 'Употребляется в значении: работники, люди, выполняющие какую-л. работу. ', 'Употребляется для обозначения человека как обладателя, владельца чего-л. ', 'Употребляется для обозначения человека, который имеет власть, влияние, может оказать покровительство, содействие кому-л. ', 'Употребляется в некоторых сочетаниях в значении: согласие на замужество, готовность вступить в брак. ', 'Место, очередь отдельного участника в чем-л. (в общей работе, в какой-л. игре и т. п.), а также отдельный участник, вступающий последовательно за кем-л. ', 'Употребляется в значении: того или иного вида, сорта, качества и т. п. ', 'В вин. п. ед. ч. с предлогом „под“ и определением, указывающим на состояние, настроение, означает: в таком состоянии, настроении. ']\n",
            "база: ['Нижняя, более широкая часть колонны или столба; основанне, подножие. ', 'Место, где сосредоточены какие-л. запасы и специальные сооружения для обслуживания чего-л. ']\n",
            "голова: ['Верхняя часть тела человека, верхняя или передняя часть тела животного, содержащая мозг. ', 'Ум, сознание; рассудок. ', 'Первые ряды, передняя часть (движущегося отряда, группы и т. д.). ', 'Пищевой продукт в виде шара, конуса. ']\n",
            "круг: ['Часть плоскости, ограниченная окружностью. ', 'Площадка такой формы для танцев, бегов и т. п. ', 'Окружность. ', 'Предмет, имеющий округлую форму или форму кольца. ']\n",
            "повод: ['Ремень, прикрепленный к удилам и служащий для управления лошадью. ', 'Случай, обстоятельство, могущие быть основанием для чего-л., причиной чего-л.; предлог. ']\n"
          ]
        }
      ]
    },
    {
      "cell_type": "markdown",
      "source": [
        "## 2. Сбор корпуса\n",
        "Беру корпус [SynTagRus](https://github.com/UniversalDependencies/UD_Russian-SynTagRus/raw/master/ru_syntagrus-ud-dev.conllu), который уже размечен в UD"
      ],
      "metadata": {
        "id": "g4hXuOr747t4"
      }
    },
    {
      "cell_type": "code",
      "source": [
        "def get_texts(path, words):\n",
        "    res = {word: [] for word in words}\n",
        "    records = load_ud_syntag(path)\n",
        "    for record in records:\n",
        "        for token in record.tokens:\n",
        "            if token.lemma in words:\n",
        "                if record not in res[token.lemma]:\n",
        "                    res[token.lemma].append(record)\n",
        "\n",
        "    return res"
      ],
      "metadata": {
        "id": "mxiS1DUGjNEK"
      },
      "execution_count": 10,
      "outputs": []
    },
    {
      "cell_type": "code",
      "source": [
        "corpus = get_texts(path, lex)"
      ],
      "metadata": {
        "id": "3Q7IsyaI8GTo"
      },
      "execution_count": 11,
      "outputs": []
    },
    {
      "cell_type": "code",
      "source": [
        "for word in lex:\n",
        "  print(f'Колиечство предложений со словом {word} в корпусе: {len(corpus[word])}')"
      ],
      "metadata": {
        "colab": {
          "base_uri": "https://localhost:8080/"
        },
        "id": "0ah3Ddr4-BRZ",
        "outputId": "21dcb5d2-a96f-4e09-a352-08527614b7d2"
      },
      "execution_count": 12,
      "outputs": [
        {
          "output_type": "stream",
          "name": "stdout",
          "text": [
            "Колиечство предложений со словом рука в корпусе: 71\n",
            "Колиечство предложений со словом база в корпусе: 22\n",
            "Колиечство предложений со словом голова в корпусе: 42\n",
            "Колиечство предложений со словом круг в корпусе: 15\n",
            "Колиечство предложений со словом повод в корпусе: 27\n"
          ]
        }
      ]
    },
    {
      "cell_type": "markdown",
      "source": [
        "## 3. Дезамбигуация контекстов с помощью Adagram\n",
        "(с ELMo ничего не получилось)"
      ],
      "metadata": {
        "id": "q_aaI8D6_hx-"
      }
    },
    {
      "cell_type": "code",
      "source": [
        "for word in lex:\n",
        "    print(word, vm.word_sense_probs(word))"
      ],
      "metadata": {
        "colab": {
          "base_uri": "https://localhost:8080/"
        },
        "id": "_Y1Hmto1ADsd",
        "outputId": "052ebe54-e80a-44a0-d98f-a263fabdcb36"
      },
      "execution_count": 13,
      "outputs": [
        {
          "output_type": "stream",
          "name": "stdout",
          "text": [
            "рука [(1, 0.269292101473561), (2, 0.21868880491977258), (3, 0.174332601644788), (4, 0.1874482738053162), (5, 0.14978834588544554)]\n",
            "база [(0, 0.2749814291520308), (1, 0.22281705240672087), (2, 0.22811624166900427), (4, 0.2740804992298799)]\n",
            "голова [(0, 0.15136618792493253), (2, 0.18463972125993772), (3, 0.23746755179898937), (4, 0.031868947553770864), (5, 0.18276442527655343), (6, 0.21124967139097275)]\n",
            "круг [(0, 0.362903810933423), (1, 0.20540961127084062), (2, 0.059090420714983015), (3, 0.37259581261023217)]\n",
            "повод [(0, 0.30422305631537927), (1, 0.2768945605956191), (2, 0.18743370890242153), (3, 0.1881764008922709), (4, 0.043271967409987344)]\n"
          ]
        }
      ]
    },
    {
      "cell_type": "code",
      "source": [
        "def lemmatized_context(s):\n",
        "    return [token.lemma for token in s.tokens if token.pos != 'PUNCT']\n",
        "\n",
        "def disambiguate_context(model, word, context):\n",
        "    probs = model.disambiguate(word, lemmatized_context(context))\n",
        "    return 1 + probs.argmax()"
      ],
      "metadata": {
        "id": "8WotbuwCEjOU"
      },
      "execution_count": 14,
      "outputs": []
    },
    {
      "cell_type": "code",
      "source": [
        "adam_corpus = {}\n",
        "for word in lex:\n",
        "    adam_corpus[word] = []\n",
        "    for text in corpus[word]:\n",
        "        meaning = disambiguate_context(vm, word, text)\n",
        "        adam_corpus[word].append([text, meaning])"
      ],
      "metadata": {
        "id": "667C0VBhEnVs"
      },
      "execution_count": 15,
      "outputs": []
    },
    {
      "cell_type": "markdown",
      "source": [
        "Также делаю со значениями, только приходится делать свою токенизацию/лемматизацию"
      ],
      "metadata": {
        "id": "gHg0qLC5vJs2"
      }
    },
    {
      "cell_type": "code",
      "source": [
        "mystem = Mystem()\n",
        "\n",
        "def lemmatized_meaning(s):\n",
        "     return [w.lower() for w in mystem.lemmatize(\" \".join(tokenize(s)))]\n",
        "\n",
        "def disambiguate_meaning(model, word, context):\n",
        "    word, _ = lemmatized_meaning(word)\n",
        "    probs = model.disambiguate(word, lemmatized_meaning(context))\n",
        "    return 1 + probs.argmax()"
      ],
      "metadata": {
        "id": "lgcIKRcvs5QW"
      },
      "execution_count": 17,
      "outputs": []
    },
    {
      "cell_type": "code",
      "source": [
        "adam_corpus_for_meanings = {}\n",
        "for word in lex:\n",
        "    adam_corpus_for_meanings[word] = []\n",
        "    for text in meanings[word]:\n",
        "        meaning = disambiguate_meaning(vm, word, text)\n",
        "        adam_corpus_for_meanings[word].append([text, meaning])"
      ],
      "metadata": {
        "id": "ClOjkYuxsOyI"
      },
      "execution_count": 18,
      "outputs": []
    },
    {
      "cell_type": "code",
      "source": [
        "pretty_print_dictionary(adam_corpus_for_meanings)"
      ],
      "metadata": {
        "colab": {
          "base_uri": "https://localhost:8080/"
        },
        "id": "JKGEuhKQvU1Z",
        "outputId": "4d0f2e78-2804-47c9-e4f9-01f2564680ee"
      },
      "execution_count": 19,
      "outputs": [
        {
          "output_type": "stream",
          "name": "stdout",
          "text": [
            "рука: [['Каждая из двух верхних конечностей человека от плечевого сустава до кончиков пальцев. ', 2], ['Употребляется как символ орудия труда человека, а также как символ самого труда, деятельности человека. ', 6], ['Манера письма, почерк. ', 6], ['Употребляется в значении: работники, люди, выполняющие какую-л. работу. ', 6], ['Употребляется для обозначения человека как обладателя, владельца чего-л. ', 6], ['Употребляется для обозначения человека, который имеет власть, влияние, может оказать покровительство, содействие кому-л. ', 6], ['Употребляется в некоторых сочетаниях в значении: согласие на замужество, готовность вступить в брак. ', 6], ['Место, очередь отдельного участника в чем-л. (в общей работе, в какой-л. игре и т. п.), а также отдельный участник, вступающий последовательно за кем-л. ', 6], ['Употребляется в значении: того или иного вида, сорта, качества и т. п. ', 6], ['В вин. п. ед. ч. с предлогом „под“ и определением, указывающим на состояние, настроение, означает: в таком состоянии, настроении. ', 6]]\n",
            "база: [['Нижняя, более широкая часть колонны или столба; основанне, подножие. ', 5], ['Место, где сосредоточены какие-л. запасы и специальные сооружения для обслуживания чего-л. ', 5]]\n",
            "голова: [['Верхняя часть тела человека, верхняя или передняя часть тела животного, содержащая мозг. ', 6], ['Ум, сознание; рассудок. ', 4], ['Первые ряды, передняя часть (движущегося отряда, группы и т. д.). ', 5], ['Пищевой продукт в виде шара, конуса. ', 6]]\n",
            "круг: [['Часть плоскости, ограниченная окружностью. ', 2], ['Площадка такой формы для танцев, бегов и т. п. ', 1], ['Окружность. ', 1], ['Предмет, имеющий округлую форму или форму кольца. ', 1]]\n",
            "повод: [['Ремень, прикрепленный к удилам и служащий для управления лошадью. ', 5], ['Случай, обстоятельство, могущие быть основанием для чего-л., причиной чего-л.; предлог. ', 4]]\n"
          ]
        }
      ]
    },
    {
      "cell_type": "markdown",
      "source": [
        "Для руки Adagram разметил по контекстам два значения 2 и 6, для базы - разметил одно, для головы - 3, для круга - 2 и для повода - 2. Рассмотрим тогда контексты без базы, потому что Adagram не различает их.\n",
        "\n",
        "Перепишем словарь и заполним его пустыми значениями тоже, который адаграм выделил сам"
      ],
      "metadata": {
        "id": "1jtEkVHUySok"
      }
    },
    {
      "cell_type": "code",
      "source": [
        "lex_new = ['рука', 'голова', 'круг', 'повод']"
      ],
      "metadata": {
        "id": "-CUbZawo2OOo"
      },
      "execution_count": 20,
      "outputs": []
    },
    {
      "cell_type": "code",
      "source": [
        "dictionary = {}\n",
        "for word in lex_new:\n",
        "    dictionary[word] = {}\n",
        "    for x in range(8):\n",
        "        dictionary[word][x] = []\n",
        "    for meanings in adam_corpus_for_meanings[word]:\n",
        "        dictionary[word][meanings[1]].append(meanings[0])\n",
        "\n",
        "pretty_print_dictionary(dictionary)"
      ],
      "metadata": {
        "colab": {
          "base_uri": "https://localhost:8080/"
        },
        "id": "6-mxhTT6ySKY",
        "outputId": "ff5f315f-eb93-4a8f-f8c9-c7454b85945b"
      },
      "execution_count": 21,
      "outputs": [
        {
          "output_type": "stream",
          "name": "stdout",
          "text": [
            "рука:\n",
            "0: []\n",
            "1: []\n",
            "2: ['Каждая из двух верхних конечностей человека от плечевого сустава до кончиков пальцев. ']\n",
            "3: []\n",
            "4: []\n",
            "5: []\n",
            "6: ['Употребляется как символ орудия труда человека, а также как символ самого труда, деятельности человека. ', 'Манера письма, почерк. ', 'Употребляется в значении: работники, люди, выполняющие какую-л. работу. ', 'Употребляется для обозначения человека как обладателя, владельца чего-л. ', 'Употребляется для обозначения человека, который имеет власть, влияние, может оказать покровительство, содействие кому-л. ', 'Употребляется в некоторых сочетаниях в значении: согласие на замужество, готовность вступить в брак. ', 'Место, очередь отдельного участника в чем-л. (в общей работе, в какой-л. игре и т. п.), а также отдельный участник, вступающий последовательно за кем-л. ', 'Употребляется в значении: того или иного вида, сорта, качества и т. п. ', 'В вин. п. ед. ч. с предлогом „под“ и определением, указывающим на состояние, настроение, означает: в таком состоянии, настроении. ']\n",
            "7: []\n",
            "голова:\n",
            "0: []\n",
            "1: []\n",
            "2: []\n",
            "3: []\n",
            "4: ['Ум, сознание; рассудок. ']\n",
            "5: ['Первые ряды, передняя часть (движущегося отряда, группы и т. д.). ']\n",
            "6: ['Верхняя часть тела человека, верхняя или передняя часть тела животного, содержащая мозг. ', 'Пищевой продукт в виде шара, конуса. ']\n",
            "7: []\n",
            "круг:\n",
            "0: []\n",
            "1: ['Площадка такой формы для танцев, бегов и т. п. ', 'Окружность. ', 'Предмет, имеющий округлую форму или форму кольца. ']\n",
            "2: ['Часть плоскости, ограниченная окружностью. ']\n",
            "3: []\n",
            "4: []\n",
            "5: []\n",
            "6: []\n",
            "7: []\n",
            "повод:\n",
            "0: []\n",
            "1: []\n",
            "2: []\n",
            "3: []\n",
            "4: ['Случай, обстоятельство, могущие быть основанием для чего-л., причиной чего-л.; предлог. ']\n",
            "5: ['Ремень, прикрепленный к удилам и служащий для управления лошадью. ']\n",
            "6: []\n",
            "7: []\n"
          ]
        }
      ]
    },
    {
      "cell_type": "code",
      "source": [
        "answer = []\n",
        "for word in lex_new:\n",
        "    print('\\n', word, '\\n')\n",
        "    for text in adam_corpus[word][0:5]:\n",
        "        print('Текст: ', text[0].text, '\\nЗначение: ', *dictionary[word][text[1]])\n",
        "        answer.append(int(input('Совпадает? ')))"
      ],
      "metadata": {
        "colab": {
          "base_uri": "https://localhost:8080/"
        },
        "id": "tsDE0Sat1qoE",
        "outputId": "b3be7654-7fb8-4645-9b4d-a782a230c01c"
      },
      "execution_count": 22,
      "outputs": [
        {
          "name": "stdout",
          "output_type": "stream",
          "text": [
            "\n",
            " рука \n",
            "\n",
            "Текст:  Лазание наиболее безопасно в тех случаях, когда лезущий соблюдает правило трех точек опоры: для двух рук и ноги или обеих ног и руки. \n",
            "Значение:  Каждая из двух верхних конечностей человека от плечевого сустава до кончиков пальцев. \n",
            "Совпадает? 1\n",
            "Текст:  В зависимости от общего объема капитала, имеющегося в распоряжении отдельного социального \"игрока\", могут возрастать или падать его \"ставки\", более или менее успешно складываться его движение в социальном пространстве; в зависимости от структуры капитала, находящегося в руках данного игрока, осуществляется выбор его социальной траектории (т. е., по сути, выбор жизненного пути). \n",
            "Значение:  Употребляется как символ орудия труда человека, а также как символ самого труда, деятельности человека.  Манера письма, почерк.  Употребляется в значении: работники, люди, выполняющие какую-л. работу.  Употребляется для обозначения человека как обладателя, владельца чего-л.  Употребляется для обозначения человека, который имеет власть, влияние, может оказать покровительство, содействие кому-л.  Употребляется в некоторых сочетаниях в значении: согласие на замужество, готовность вступить в брак.  Место, очередь отдельного участника в чем-л. (в общей работе, в какой-л. игре и т. п.), а также отдельный участник, вступающий последовательно за кем-л.  Употребляется в значении: того или иного вида, сорта, качества и т. п.  В вин. п. ед. ч. с предлогом „под“ и определением, указывающим на состояние, настроение, означает: в таком состоянии, настроении. \n",
            "Совпадает? 1\n",
            "Текст:  Со столом в руках он бродил по этажу, приспосабливал стол в разных углах, но и там понемногу капало. \n",
            "Значение: \n",
            "Совпадает? 0\n",
            "Текст:  И руки, и глаза, и даже уши? \n",
            "Значение:  Каждая из двух верхних конечностей человека от плечевого сустава до кончиков пальцев. \n",
            "Совпадает? 1\n",
            "Текст:  И тогда - тут не хватало только жеста бесшабашности и отчаяния, такого взмаха руки - он выдергивал из грядки идей одну произвольно избранную, обкатывал ее наспех, обсасывал слегка и преподносил за чаем жене, тем более испытывая возбуждение и волнение, что необходимо было хоть как-то избавиться от них. \n",
            "Значение: \n",
            "Совпадает? 0\n",
            "\n",
            " голова \n",
            "\n",
            "Текст:  Сергей поднял голову и словно впервые увидел, что потолка над ним не было - была сразу крыша. \n",
            "Значение: \n",
            "Совпадает? 0\n",
            "Текст:  Когда никого не было дома, Лева заваривал себе чай покрепче и пил его через макаронину, и ему казалось тогда, что на голове у него черная академическая камилавка… \n",
            "Значение:  Верхняя часть тела человека, верхняя или передняя часть тела животного, содержащая мозг.  Пищевой продукт в виде шара, конуса. \n",
            "Совпадает? 1\n",
            "Текст:  Однако нового изображения отца, чем в тот приезд, не возникало, предыдущего же не было, кроме свадебной фотографии, где он любил маму… мама - ласточка, круглые глаза, двадцати лет, в какой-то чалме на голове. \n",
            "Значение:  Верхняя часть тела человека, верхняя или передняя часть тела животного, содержащая мозг.  Пищевой продукт в виде шара, конуса. \n",
            "Совпадает? 1\n",
            "Текст:  Ну или отрубит пусть одну из голов своего национал-демократического тяни-толкая. \n",
            "Значение: \n",
            "Совпадает? 0\n",
            "Текст:  Если голову посконную националистическую - милости просим создавать нашу партию. \n",
            "Значение: \n",
            "Совпадает? 0\n",
            "\n",
            " круг \n",
            "\n",
            "Текст:  По столичным меркам В. Д. Корнильев - ни богат, ни знатен, не имел в Москве корней и связей, но, видимо, было в нем что-то, что позволило его семье войти в круг людей, который мы сегодня назвали бы лучшим московским обществом того времени. \n",
            "Значение: \n",
            "Совпадает? 0\n",
            "Текст:  Конечно, семейные традиции и предания - и английские, и немецкие, и сибирские - и удивительный круг друзей дома стали основными воспитателями Александры и ее сестер. \n",
            "Значение: \n",
            "Совпадает? 0\n",
            "Текст:  За городом, в кругу семьи, на солнце, воздухе и воде, он, напротив, внешне успокаивался, молодел, в общем, начинал хорошо выглядеть. \n",
            "Значение:  Площадка такой формы для танцев, бегов и т. п.  Окружность.  Предмет, имеющий округлую форму или форму кольца. \n",
            "Совпадает? 0\n",
            "Текст:  Что-то из этих наработок, конечно, различавшихся по степени глубины и радикальности, обсуждалось в узких кругах специалистов. \n",
            "Значение:  Часть плоскости, ограниченная окружностью. \n",
            "Совпадает? 0\n",
            "Текст:  Он входил в узкий круг экономистов, обладающих наиболее полной информацией. \n",
            "Значение:  Часть плоскости, ограниченная окружностью. \n",
            "Совпадает? 0\n",
            "\n",
            " повод \n",
            "\n",
            "Текст:  Поводом для атлантологов собраться в Москве стала юбилейная дата - 100 лет со дня рождения самого известного у нас в стране энтузиаста поисков Атлантиды Николая Жирова. \n",
            "Значение: \n",
            "Совпадает? 0\n",
            "Текст:  Для этого есть внешний повод. \n",
            "Значение:  Случай, обстоятельство, могущие быть основанием для чего-л., причиной чего-л.; предлог. \n",
            "Совпадает? 1\n",
            "Текст:  Возникала она, как правило, по внешнему поводу, например, политическому: тут можно было обобщать и нападать, гасить творческий пыл, успокаивать себя, чуть затрачивая и еще раз приостанавливаясь на трудном подъеме к работе и съезжая вниз по круче, чтобы завтра проходить и преодолевать тот же отрезок инерции и подъема, что и вчера и позавчера, может быть плюсуя по сантиметру, но опять не добираясь до цели. \n",
            "Значение: \n",
            "Совпадает? 0\n",
            "Текст:  Это случилось раньше, чем хоть какой-нибудь конкретный повод дал бы этому основание. \n",
            "Значение:  Случай, обстоятельство, могущие быть основанием для чего-л., причиной чего-л.; предлог. \n",
            "Совпадает? 1\n",
            "Текст:  Это она без повода, для оскорбления. \n",
            "Значение:  Случай, обстоятельство, могущие быть основанием для чего-л., причиной чего-л.; предлог. \n",
            "Совпадает? 1\n"
          ]
        }
      ]
    },
    {
      "cell_type": "code",
      "source": [
        "print('Accuracy: ', sum(answer)/len(answer))"
      ],
      "metadata": {
        "colab": {
          "base_uri": "https://localhost:8080/"
        },
        "id": "Lmwwidyt7XOp",
        "outputId": "95dbc24e-84b3-49d5-d7cc-e677ceef2e1a"
      },
      "execution_count": 24,
      "outputs": [
        {
          "output_type": "stream",
          "name": "stdout",
          "text": [
            "Accuracy:  0.4\n"
          ]
        }
      ]
    },
    {
      "cell_type": "markdown",
      "source": [
        "Поскольку сравнить мне не с чем (ELMo не заработал), просто опишу, что получилось с Адаграм. У него была бы хорошая метрика, если бы лучше кластеризовались значения (потому что было достаточно много контекстов, где нет подходящего значения в словаре). А ошибок там, где значения всё-таки есть в словаре, не так много."
      ],
      "metadata": {
        "id": "KW2KVvUy72A7"
      }
    }
  ]
}