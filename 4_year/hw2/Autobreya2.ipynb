{
  "nbformat": 4,
  "nbformat_minor": 0,
  "metadata": {
    "colab": {
      "provenance": []
    },
    "kernelspec": {
      "name": "python3",
      "display_name": "Python 3"
    },
    "language_info": {
      "name": "python"
    }
  },
  "cells": [
    {
      "cell_type": "markdown",
      "source": [
        "# 1. Скачивание данных\n",
        "Youtube-dl у меня не заработал из-за конфликта версий, поэтому я использовала библиотеку [pytube](https://github.com/pytube/pytube) для скачивания видео и субтитров."
      ],
      "metadata": {
        "id": "lvlPyOcsu338"
      }
    },
    {
      "cell_type": "code",
      "execution_count": 1,
      "metadata": {
        "id": "Tq-Z4F2jbFOW"
      },
      "outputs": [],
      "source": [
        "%%capture\n",
        "! pip install pytube"
      ]
    },
    {
      "cell_type": "code",
      "source": [
        "from pytube import YouTube"
      ],
      "metadata": {
        "id": "baq3QR7Bghvs"
      },
      "execution_count": 2,
      "outputs": []
    },
    {
      "cell_type": "markdown",
      "source": [
        "В качестве видео взят [короткий мейкап туториал](https://youtu.be/052P7l-p38A?si=OcMXfjZKo1ITUc2m) на английском, в котором есть автоматически сгенерированные субтитры и встроенные автором, которые будут взяты как эталон"
      ],
      "metadata": {
        "id": "CToPzvO1yFw9"
      }
    },
    {
      "cell_type": "code",
      "source": [
        "link = 'https://youtu.be/052P7l-p38A?si=OcMXfjZKo1ITUc2m'"
      ],
      "metadata": {
        "id": "MaH0gbR5yN9C"
      },
      "execution_count": 3,
      "outputs": []
    },
    {
      "cell_type": "code",
      "source": [
        "video = YouTube(link)\n",
        "video.streams.get_audio_only().download(filename='audio.wav')"
      ],
      "metadata": {
        "colab": {
          "base_uri": "https://localhost:8080/",
          "height": 36
        },
        "id": "QqUbkIe7x9UC",
        "outputId": "aeef1612-1faf-41ba-ed09-dcd5dd8447a5"
      },
      "execution_count": 4,
      "outputs": [
        {
          "output_type": "execute_result",
          "data": {
            "text/plain": [
              "'/content/audio.wav'"
            ],
            "application/vnd.google.colaboratory.intrinsic+json": {
              "type": "string"
            }
          },
          "metadata": {},
          "execution_count": 4
        }
      ]
    },
    {
      "cell_type": "code",
      "source": [
        "print('Список субтитров: ', video.captions)"
      ],
      "metadata": {
        "colab": {
          "base_uri": "https://localhost:8080/"
        },
        "id": "W3y0vJykzywX",
        "outputId": "2cecea30-7191-49b7-9161-9482e426d289"
      },
      "execution_count": 5,
      "outputs": [
        {
          "output_type": "stream",
          "name": "stdout",
          "text": [
            "Список субтитров:  {'en': <Caption lang=\"English\" code=\"en\">, 'a.en': <Caption lang=\"English (auto-generated)\" code=\"a.en\">, 'fil': <Caption lang=\"Filipino\" code=\"fil\">, 'fr': <Caption lang=\"French\" code=\"fr\">, 'de': <Caption lang=\"German\" code=\"de\">, 'hi': <Caption lang=\"Hindi\" code=\"hi\">, 'id': <Caption lang=\"Indonesian\" code=\"id\">, 'ja': <Caption lang=\"Japanese\" code=\"ja\">, 'ko': <Caption lang=\"Korean\" code=\"ko\">, 'pl': <Caption lang=\"Polish\" code=\"pl\">, 'ru': <Caption lang=\"Russian\" code=\"ru\">, 'es': <Caption lang=\"Spanish\" code=\"es\">, 'th': <Caption lang=\"Thai\" code=\"th\">, 'vi': <Caption lang=\"Vietnamese\" code=\"vi\">}\n"
          ]
        }
      ]
    },
    {
      "cell_type": "markdown",
      "source": [
        "Сохраняю нужные субтитры в формате xml"
      ],
      "metadata": {
        "id": "qwgFhmgT87Y4"
      }
    },
    {
      "cell_type": "code",
      "source": [
        "video.captions[\"a.en\"].download(title=\"youtube_generated\", srt=False)"
      ],
      "metadata": {
        "colab": {
          "base_uri": "https://localhost:8080/",
          "height": 36
        },
        "id": "vMebsnaa8Eyy",
        "outputId": "77bee31b-294f-4840-d081-3701b7108476"
      },
      "execution_count": 6,
      "outputs": [
        {
          "output_type": "execute_result",
          "data": {
            "text/plain": [
              "'/content/youtube_generated (a.en).xml'"
            ],
            "application/vnd.google.colaboratory.intrinsic+json": {
              "type": "string"
            }
          },
          "metadata": {},
          "execution_count": 6
        }
      ]
    },
    {
      "cell_type": "code",
      "source": [
        "video.captions[\"en\"].download(title=\"etalon\", srt=False)"
      ],
      "metadata": {
        "colab": {
          "base_uri": "https://localhost:8080/",
          "height": 36
        },
        "id": "QcCtIbii8tvB",
        "outputId": "e56841b8-dd50-42e7-ee81-c674af1a9a6c"
      },
      "execution_count": 7,
      "outputs": [
        {
          "output_type": "execute_result",
          "data": {
            "text/plain": [
              "'/content/etalon (en).xml'"
            ],
            "application/vnd.google.colaboratory.intrinsic+json": {
              "type": "string"
            }
          },
          "metadata": {},
          "execution_count": 7
        }
      ]
    },
    {
      "cell_type": "markdown",
      "source": [
        "Превращаю xml файлы в строки и записываю в текстовый файл эталон"
      ],
      "metadata": {
        "id": "R0Tv8InOX5q4"
      }
    },
    {
      "cell_type": "code",
      "source": [
        "import xml.etree.ElementTree as ET\n",
        "\n",
        "def extract_text_from_xml_en(filename):\n",
        "    tree = ET.parse(filename)\n",
        "    root = tree.getroot()\n",
        "\n",
        "    text = ''\n",
        "    for p in root.findall('.//p'):\n",
        "        if p.text is not None:\n",
        "            text += p.text.strip() + ' '\n",
        "\n",
        "    return text.strip().replace('\\xa0', ' ').replace('\\ufeff', ' ').replace('\\n', ' ')\n",
        "\n",
        "def extract_text_from_xml_a_en(filename):\n",
        "    tree = ET.parse(filename)\n",
        "    root = tree.getroot()\n",
        "\n",
        "    text = ''\n",
        "    for p in root.findall('.//s'):\n",
        "        if p.text is not None:\n",
        "            text += p.text.strip() + ' '\n",
        "\n",
        "    return text.strip().replace('\\xa0', ' ').replace('\\ufeff', ' ').replace('\\n', ' ')\n",
        "\n",
        "def save_text_to_file(text, filename):\n",
        "    with open(filename, 'w', encoding='utf-8') as file:\n",
        "        file.write(text)\n",
        "\n",
        "def rewrite(filename_in, filename_out, rewrite=True):\n",
        "    if rewrite:\n",
        "      text = extract_text_from_xml_en(filename_in)\n",
        "      save_text_to_file(text, filename_out)\n",
        "    else:\n",
        "      text = extract_text_from_xml_a_en(filename_in)\n",
        "    return text"
      ],
      "metadata": {
        "id": "JJFhJNgZ9_Cf"
      },
      "execution_count": 28,
      "outputs": []
    },
    {
      "cell_type": "code",
      "source": [
        "text_etalon = rewrite('etalon (en).xml', 'etalon.txt')"
      ],
      "metadata": {
        "id": "Amkgo4gh-sNH"
      },
      "execution_count": 29,
      "outputs": []
    },
    {
      "cell_type": "code",
      "source": [
        "text_youtube = rewrite('youtube_generated (a.en).xml', None, rewrite=False)"
      ],
      "metadata": {
        "id": "9x7lihC5-37_"
      },
      "execution_count": 30,
      "outputs": []
    },
    {
      "cell_type": "code",
      "source": [
        "text_youtube"
      ],
      "metadata": {
        "colab": {
          "base_uri": "https://localhost:8080/",
          "height": 140
        },
        "id": "TAx-r6t3YKOF",
        "outputId": "fefbc642-a6d8-443c-b130-258b2b5c06ee"
      },
      "execution_count": 31,
      "outputs": [
        {
          "output_type": "execute_result",
          "data": {
            "text/plain": [
              "\"foreign welcome back to Dear peachy in our video today we are going to show you a quick tutorial for the stoyan dolly soft Glam look this beauty Guru here named siautar and she has gained more than 200 000 followers on her CL hongshu if you love to try dogin makeup but do not know how to start this look is perfect for you to begin first Todd is going to prep her skin before applying her base she is moisturizing the dry patches on her face using the serum bomb stick she is applying at the sides of nose mouth corners and under eye to avoid her base from creasing later if you have the same issue you can apply any lightweight moisturizer that you have on those dry patches let the moisturizer set for around 15 minutes before you apply any makeup so that the moisturizer gets absorbed by the skin once the skincare is set into your skin layer a thin coat of foundation to even out your skin tone Pat them out with a cushioned sponge matte highlighter is dabbed the inner cheeks to brighten the center region of her face you can also use a lighter shade of concealer to do so then put on some setting powder to achieve that natural look for brows toss filling them in with brow powder she mentions that she prefers the light and fuzzy looking brows today nothing too annular just follow your natural bra shape will do next she Corners her nose from the nose Roots towards the nose bridge and she fills in a v-shape at her nose tip with a light hand add a little bit of Contour at the lower lip and fill them to deepen their Shadow it can make your lips look more pouty if you're going for a cute look you do not need to apply Contour to your jaws the Chisel gel might actually make your makeup look sexier instead of making it appear more Dolly Contour to bring your cheekbones inwards so your face shape will look less angular to match with this look and add a little bit below your chin to make your face look shorter and younger for eyes and blush I was going to use a warm pink shade blusher from a China brand girl called in the shade she said just a light touch all over her lid is enough emphasize more on the lower lid and egg YOLO cell for blush apply the same blush at the same region where you apply them at highlighter apply some at the nose tip and Chin eyelashes is a must to enhance your eye shape besides curling them toss putting on the individual falses to accentuate her actual lashes fill in the blank spots at your inner lash line with a liquid liner extend a winged liner from your outer corner with an egg yo cell liner toss going over to her Contour again to deepen the shadow at the center of her pupil add more at the lower lash line to make your eyes look rounder highlight the center of your egg yo cell and inner Corner apply a light pink lip Shine for that glossy lip look lastly she adapts the shimmery highlighter at the tip of her nose and nose bridge and inner corner and the look is done a very refreshing cute and Dolly makeup look that is perfect for any occasion we just love how girly and adorable she looks here what do you guys think comment down below to let us know thank you so much for watching we will see you in the next video goodbye\""
            ],
            "application/vnd.google.colaboratory.intrinsic+json": {
              "type": "string"
            }
          },
          "metadata": {},
          "execution_count": 31
        }
      ]
    },
    {
      "cell_type": "markdown",
      "source": [
        "# 2. ASR\n",
        "## 2.1 HuggingFace wav2vec2"
      ],
      "metadata": {
        "id": "LbjK0m7fAVXX"
      }
    },
    {
      "cell_type": "code",
      "source": [
        "from transformers import pipeline"
      ],
      "metadata": {
        "id": "XtW5CJFP9ks9"
      },
      "execution_count": 32,
      "outputs": []
    },
    {
      "cell_type": "code",
      "source": [
        "transcriber = pipeline(\"automatic-speech-recognition\", \"facebook/wav2vec2-base-960h\")\n",
        "text_wav2vec2= transcriber('audio.wav')['text']"
      ],
      "metadata": {
        "colab": {
          "base_uri": "https://localhost:8080/"
        },
        "id": "UDI9Zwzk9l0m",
        "outputId": "f4c6118d-a4b4-4a7b-e8fc-1d1343c98605"
      },
      "execution_count": 33,
      "outputs": [
        {
          "output_type": "stream",
          "name": "stderr",
          "text": [
            "Some weights of the model checkpoint at facebook/wav2vec2-base-960h were not used when initializing Wav2Vec2ForCTC: ['wav2vec2.encoder.pos_conv_embed.conv.weight_v', 'wav2vec2.encoder.pos_conv_embed.conv.weight_g']\n",
            "- This IS expected if you are initializing Wav2Vec2ForCTC from the checkpoint of a model trained on another task or with another architecture (e.g. initializing a BertForSequenceClassification model from a BertForPreTraining model).\n",
            "- This IS NOT expected if you are initializing Wav2Vec2ForCTC from the checkpoint of a model that you expect to be exactly identical (initializing a BertForSequenceClassification model from a BertForSequenceClassification model).\n",
            "Some weights of Wav2Vec2ForCTC were not initialized from the model checkpoint at facebook/wav2vec2-base-960h and are newly initialized: ['wav2vec2.encoder.pos_conv_embed.conv.parametrizations.weight.original0', 'wav2vec2.encoder.pos_conv_embed.conv.parametrizations.weight.original1', 'wav2vec2.masked_spec_embed']\n",
            "You should probably TRAIN this model on a down-stream task to be able to use it for predictions and inference.\n"
          ]
        }
      ]
    },
    {
      "cell_type": "markdown",
      "source": [
        "# 2.2 SpeechRecognition\n",
        "Для начала трансформирую файл для того, чтобы с ним можно было работать библиотекой"
      ],
      "metadata": {
        "id": "cF7ne043Ao1y"
      }
    },
    {
      "cell_type": "code",
      "source": [
        "%%capture\n",
        "! pip install SpeechRecognition\n",
        "! pip install git+https://github.com/openai/whisper.git soundfile"
      ],
      "metadata": {
        "id": "rhJlgNCcHBJn"
      },
      "execution_count": 34,
      "outputs": []
    },
    {
      "cell_type": "code",
      "source": [
        "import speech_recognition as sr\n",
        "import librosa\n",
        "import soundfile as sf"
      ],
      "metadata": {
        "id": "uxQ05obrG75D"
      },
      "execution_count": 35,
      "outputs": []
    },
    {
      "cell_type": "code",
      "source": [
        "%%capture\n",
        "x,_ = librosa.load('audio.wav', sr=16000)\n",
        "sf.write('audio_transformed.wav', x, 16000)"
      ],
      "metadata": {
        "id": "5LV4vTupIFsO"
      },
      "execution_count": 36,
      "outputs": []
    },
    {
      "cell_type": "code",
      "source": [
        "r = sr.Recognizer()\n",
        "with sr.AudioFile('audio_transformed.wav') as source:\n",
        "    audio = r.record(source)"
      ],
      "metadata": {
        "id": "BLX8whO4HP6Y"
      },
      "execution_count": 37,
      "outputs": []
    },
    {
      "cell_type": "code",
      "source": [
        "# OpenAI Whisper library\n",
        "text_whisper = r.recognize_whisper(audio)"
      ],
      "metadata": {
        "id": "5VdGhyXiIcv-"
      },
      "execution_count": 38,
      "outputs": []
    },
    {
      "cell_type": "code",
      "source": [
        "# Google Cloud Speech (with default key)\n",
        "text_cloud_speech = r.recognize_google(audio)"
      ],
      "metadata": {
        "id": "4ytL35JDJE49"
      },
      "execution_count": 39,
      "outputs": []
    },
    {
      "cell_type": "markdown",
      "source": [
        "Записываю результаты в отдельный json файл"
      ],
      "metadata": {
        "id": "xrReMRpcTEtC"
      }
    },
    {
      "cell_type": "code",
      "source": [
        "import json"
      ],
      "metadata": {
        "id": "TgEO6dXDTLus"
      },
      "execution_count": 40,
      "outputs": []
    },
    {
      "cell_type": "code",
      "source": [
        "with open('asr.json', 'w', encoding='utf-8') as f:\n",
        "  json.dump({'youtube': text_youtube,\n",
        "             'wav2vec2': text_wav2vec2,\n",
        "             'whisper': text_whisper,\n",
        "             'cloud_speech': text_cloud_speech},\n",
        "            f, ensure_ascii=False, indent='\\t')"
      ],
      "metadata": {
        "id": "JtkEDTS9TO2p",
        "colab": {
          "base_uri": "https://localhost:8080/",
          "height": 17
        },
        "outputId": "6feb01a8-c984-49fd-b20d-26fb9edf2891"
      },
      "execution_count": 41,
      "outputs": [
        {
          "output_type": "display_data",
          "data": {
            "text/plain": [
              "<IPython.core.display.Javascript object>"
            ],
            "application/javascript": [
              "\n",
              "    async function download(id, filename, size) {\n",
              "      if (!google.colab.kernel.accessAllowed) {\n",
              "        return;\n",
              "      }\n",
              "      const div = document.createElement('div');\n",
              "      const label = document.createElement('label');\n",
              "      label.textContent = `Downloading \"${filename}\": `;\n",
              "      div.appendChild(label);\n",
              "      const progress = document.createElement('progress');\n",
              "      progress.max = size;\n",
              "      div.appendChild(progress);\n",
              "      document.body.appendChild(div);\n",
              "\n",
              "      const buffers = [];\n",
              "      let downloaded = 0;\n",
              "\n",
              "      const channel = await google.colab.kernel.comms.open(id);\n",
              "      // Send a message to notify the kernel that we're ready.\n",
              "      channel.send({})\n",
              "\n",
              "      for await (const message of channel.messages) {\n",
              "        // Send a message to notify the kernel that we're ready.\n",
              "        channel.send({})\n",
              "        if (message.buffers) {\n",
              "          for (const buffer of message.buffers) {\n",
              "            buffers.push(buffer);\n",
              "            downloaded += buffer.byteLength;\n",
              "            progress.value = downloaded;\n",
              "          }\n",
              "        }\n",
              "      }\n",
              "      const blob = new Blob(buffers, {type: 'application/binary'});\n",
              "      const a = document.createElement('a');\n",
              "      a.href = window.URL.createObjectURL(blob);\n",
              "      a.download = filename;\n",
              "      div.appendChild(a);\n",
              "      a.click();\n",
              "      div.remove();\n",
              "    }\n",
              "  "
            ]
          },
          "metadata": {}
        },
        {
          "output_type": "display_data",
          "data": {
            "text/plain": [
              "<IPython.core.display.Javascript object>"
            ],
            "application/javascript": [
              "download(\"download_62e42b57-8515-4be4-a864-b0b39abe9e4b\", \"asr.json\", 12908)"
            ]
          },
          "metadata": {}
        }
      ]
    },
    {
      "cell_type": "markdown",
      "source": [
        "# 3. WER"
      ],
      "metadata": {
        "id": "7xEyV07mLbar"
      }
    },
    {
      "cell_type": "code",
      "source": [
        "%%capture\n",
        "! pip install jiwer"
      ],
      "metadata": {
        "id": "hif6JOn3LlB9"
      },
      "execution_count": 42,
      "outputs": []
    },
    {
      "cell_type": "code",
      "source": [
        "from jiwer import wer\n",
        "import re"
      ],
      "metadata": {
        "id": "e_DWlC40LrqU"
      },
      "execution_count": 47,
      "outputs": []
    },
    {
      "cell_type": "markdown",
      "source": [
        "Можно загрузить выложенные на гитхаб файлы"
      ],
      "metadata": {
        "id": "y_59sq17V5dM"
      }
    },
    {
      "cell_type": "code",
      "source": [
        "%%capture\n",
        "#! wget \"https://github.com/ssakk/avtobreya/blob/main/4_year/hw2/asr.json\"\n",
        "#! wget \"https://github.com/ssakk/avtobreya/blob/main/4_year/hw2/etalon.txt\""
      ],
      "metadata": {
        "id": "tftQfUf4fUp0"
      },
      "execution_count": null,
      "outputs": []
    },
    {
      "cell_type": "code",
      "source": [
        "with open('etalon.txt', 'r', encoding='utf-8') as f:\n",
        "  etalon = f.read()\n",
        "\n",
        "with open('asr.json', 'r', encoding='utf-8') as f:\n",
        "  asr = json.load(f)"
      ],
      "metadata": {
        "id": "EuZORo5kfj7Y"
      },
      "execution_count": 45,
      "outputs": []
    },
    {
      "cell_type": "code",
      "source": [
        "for key, text in asr.items():\n",
        "  text_clean = ' '.join(re.findall(r'\\w+', text.lower()))\n",
        "  print('WER for', key, ':', wer(etalon, text_clean))"
      ],
      "metadata": {
        "colab": {
          "base_uri": "https://localhost:8080/"
        },
        "id": "KBZRZfRPf4Zj",
        "outputId": "25d68334-55d2-40b2-b680-d0009d89b7b3"
      },
      "execution_count": 48,
      "outputs": [
        {
          "output_type": "stream",
          "name": "stdout",
          "text": [
            "WER for youtube : 0.2629032258064516\n",
            "WER for wav2vec2 : 0.3919354838709677\n",
            "WER for whisper : 0.2645161290322581\n",
            "WER for cloud_speech : 0.2967741935483871\n"
          ]
        }
      ]
    },
    {
      "cell_type": "markdown",
      "source": [
        "Автоматически сгенерированные на ютуб оказались лучше всего, whisper очень близко. Cloud speech -- чуть хуже и wav2vec2 хуже всех."
      ],
      "metadata": {
        "id": "LvflZ627gFs1"
      }
    }
  ]
}